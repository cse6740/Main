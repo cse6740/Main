{
 "cells": [
  {
   "cell_type": "code",
   "execution_count": 1,
   "metadata": {},
   "outputs": [],
   "source": [
    "#Steps 1-3 is PCA part of project, runs from the same folder on GitHub as project.ipynb\n",
    "#Uses data on 40 subjects 10 images 64x64=4096 pixels face_data.csv\n",
    "#Uses 9 images 1-9 to create an eigenface, image 0 for test\n",
    "#Creates file eigenfaces.csv 40 first eigenfaces x 4096 pixels with mean added back\n",
    "#Step 4 calculates cosine similarity between test image and eigenfaces, recognizes subject with max cosim\n",
    "#Not recognizing (cutoff) not implemented\n",
    "import math\n",
    "import numpy as np \n",
    "from numpy import linalg as la\n",
    "from sklearn.decomposition import PCA\n",
    "import matplotlib.pyplot as plt\n",
    "from matplotlib.pyplot import imshow\n",
    "from PIL import Image\n",
    "from sklearn.svm import SVC\n",
    "from sklearn.linear_model import LogisticRegression\n",
    "from time import time"
   ]
  },
  {
   "cell_type": "code",
   "execution_count": 2,
   "metadata": {},
   "outputs": [],
   "source": [
    "#get data\n",
    "import csv\n",
    "data = []\n",
    "with open('data/face_data/face_data.csv') as csvfile:\n",
    "    reader = csv.reader(csvfile, delimiter=',', quotechar='|')\n",
    "    for row in reader:\n",
    "        data.append(row)\n",
    "data=np.array(data)\n",
    "idata = data[1:,:data.shape[1]-1].astype(np.float32)\n",
    "idata = idata.reshape(40,10,4096) #40 subjects 10 images 64x64"
   ]
  },
  {
   "cell_type": "code",
   "execution_count": 3,
   "metadata": {},
   "outputs": [
    {
     "name": "stdout",
     "output_type": "stream",
     "text": [
      "computed in 0.586s\n"
     ]
    }
   ],
   "source": [
    "#create array of first eigenfaces 40x4046, exclude image zero from training data\n",
    "#takes a while to run, may consider compressing images to 16x16\n",
    "t0 = time()\n",
    "eface = []\n",
    "for i in range(40):\n",
    "    mu = np.mean(idata[i,1:,:], 0)\n",
    "    pca = PCA(n_components=1, svd_solver='randomized', whiten=True).fit(idata[i,1:,:])\n",
    "    eface.append(pca.components_[0].reshape(4096,) + mu)\n",
    "np.savetxt(\"data/face_data/eigenfaces.csv\", eface, delimiter=\",\")\n",
    "t_pca = (time() - t0)\n",
    "print(\"computed in %0.3fs\" % t_pca)"
   ]
  },
  {
   "cell_type": "code",
   "execution_count": 4,
   "metadata": {},
   "outputs": [
    {
     "name": "stdout",
     "output_type": "stream",
     "text": [
      "subject 0 recognized as 0 cosim = 0.99\n",
      "subject 1 recognized as 1 cosim = 0.99\n",
      "subject 2 recognized as 2 cosim = 0.99\n",
      "subject 3 recognized as 3 cosim = 0.99\n",
      "subject 4 recognized as 4 cosim = 1.0\n",
      "subject 5 recognized as 5 cosim = 0.99\n",
      "subject 6 recognized as 6 cosim = 0.99\n",
      "subject 7 recognized as 7 cosim = 0.98\n",
      "subject 8 recognized as 8 cosim = 0.99\n",
      "subject 9 recognized as 9 cosim = 0.99\n",
      "subject 10 recognized as 10 cosim = 0.99\n",
      "subject 11 recognized as 11 cosim = 0.99\n",
      "subject 12 recognized as 12 cosim = 0.99\n",
      "subject 13 recognized as 13 cosim = 0.99\n",
      "subject 14 recognized as 14 cosim = 0.99\n",
      "subject 15 recognized as 15 cosim = 0.98\n",
      "subject 16 recognized as 16 cosim = 0.99\n",
      "subject 17 recognized as 17 cosim = 0.99\n",
      "subject 18 recognized as 18 cosim = 0.98\n",
      "subject 19 recognized as 19 cosim = 0.98\n",
      "subject 20 recognized as 4 cosim = 0.99\n",
      "subject 21 recognized as 21 cosim = 0.98\n",
      "subject 22 recognized as 22 cosim = 0.99\n",
      "subject 23 recognized as 23 cosim = 0.99\n",
      "subject 24 recognized as 24 cosim = 0.99\n",
      "subject 25 recognized as 25 cosim = 0.99\n",
      "subject 26 recognized as 26 cosim = 0.99\n",
      "subject 27 recognized as 27 cosim = 0.99\n",
      "subject 28 recognized as 28 cosim = 0.99\n",
      "subject 29 recognized as 29 cosim = 1.0\n",
      "subject 30 recognized as 30 cosim = 0.98\n",
      "subject 31 recognized as 31 cosim = 0.99\n",
      "subject 32 recognized as 32 cosim = 0.98\n",
      "subject 33 recognized as 33 cosim = 0.99\n",
      "subject 34 recognized as 34 cosim = 0.97\n",
      "subject 35 recognized as 35 cosim = 0.99\n",
      "subject 36 recognized as 36 cosim = 0.99\n",
      "subject 37 recognized as 39 cosim = 0.99\n",
      "subject 38 recognized as 38 cosim = 0.99\n",
      "subject 39 recognized as 8 cosim = 0.98\n",
      "Accuracy: 0.925\n",
      "computed in 0.724s\n"
     ]
    }
   ],
   "source": [
    "#test on image zero using cosine similarity score (cosim distance)\n",
    "t0 = time()\n",
    "s=0\n",
    "for i in range(40):\n",
    "    image = idata[i,0,:].T.reshape(4096,)\n",
    "    dist = np.zeros(40)\n",
    "    eface = np.array(eface)\n",
    "    for e in range(40):\n",
    "        dist[e] = (eface[e]@image)/(la.norm(eface[e])*la.norm(image))\n",
    "    print('subject', i, 'recognized as', np.where(dist == max(dist))[0][0], 'cosim =', \n",
    "          round(max(dist),2))\n",
    "    if i == np.where(dist == max(dist))[0][0]:\n",
    "        s += 1\n",
    "print('Accuracy:', s/40)\n",
    "print(\"computed in %0.3fs\" % (time() - t0 + t_pca))"
   ]
  },
  {
   "cell_type": "code",
   "execution_count": 5,
   "metadata": {},
   "outputs": [
    {
     "name": "stdout",
     "output_type": "stream",
     "text": [
      "subject 0 recognized as 0\n",
      "subject 1 recognized as 1\n",
      "subject 2 recognized as 2\n",
      "subject 3 recognized as 3\n",
      "subject 4 recognized as 4\n",
      "subject 5 recognized as 5\n",
      "subject 6 recognized as 6\n",
      "subject 7 recognized as 7\n",
      "subject 8 recognized as 8\n",
      "subject 9 recognized as 9\n",
      "subject 10 recognized as 10\n",
      "subject 11 recognized as 11\n",
      "subject 12 recognized as 12\n",
      "subject 13 recognized as 13\n",
      "subject 14 recognized as 14\n",
      "subject 15 recognized as 15\n",
      "subject 16 recognized as 16\n",
      "subject 17 recognized as 17\n",
      "subject 18 recognized as 18\n",
      "subject 19 recognized as 19\n",
      "subject 20 recognized as 20\n",
      "subject 21 recognized as 21\n",
      "subject 22 recognized as 22\n",
      "subject 23 recognized as 23\n",
      "subject 24 recognized as 24\n",
      "subject 25 recognized as 25\n",
      "subject 26 recognized as 26\n",
      "subject 27 recognized as 27\n",
      "subject 28 recognized as 28\n",
      "subject 29 recognized as 29\n",
      "subject 30 recognized as 30\n",
      "subject 31 recognized as 31\n",
      "subject 32 recognized as 32\n",
      "subject 33 recognized as 33\n",
      "subject 34 recognized as 34\n",
      "subject 35 recognized as 35\n",
      "subject 36 recognized as 36\n",
      "subject 37 recognized as 39\n",
      "subject 38 recognized as 38\n",
      "subject 39 recognized as 8\n",
      "Accuracy: 0.95\n",
      "computed in 0.723s\n"
     ]
    }
   ],
   "source": [
    "#train SVM on eigenfaces and test on image zero  \n",
    "y_train = np.array(list(range(40)))\n",
    "\n",
    "t0 = time()\n",
    "clf = SVC(kernel='linear', C=1.0)\n",
    "clf = clf.fit(eface, y_train)\n",
    "\n",
    "s=0\n",
    "for i in range(40):\n",
    "    print('subject', i, 'recognized as', clf.predict(idata[i,0,:].reshape(1,4096))[0])\n",
    "    if i == clf.predict(idata[i,0,:].reshape(1,4096))[0]:\n",
    "        s += 1\n",
    "print('Accuracy:', s/40)\n",
    "print(\"computed in %0.3fs\" % (time() - t0 + t_pca))"
   ]
  },
  {
   "cell_type": "code",
   "execution_count": 6,
   "metadata": {},
   "outputs": [
    {
     "name": "stderr",
     "output_type": "stream",
     "text": [
      "C:\\Users\\andre\\Anaconda3\\lib\\site-packages\\sklearn\\linear_model\\logistic.py:947: ConvergenceWarning: lbfgs failed to converge. Increase the number of iterations.\n",
      "  \"of iterations.\", ConvergenceWarning)\n"
     ]
    },
    {
     "name": "stdout",
     "output_type": "stream",
     "text": [
      "subject 0 recognized as 0\n",
      "subject 1 recognized as 1\n",
      "subject 2 recognized as 2\n",
      "subject 3 recognized as 3\n",
      "subject 4 recognized as 4\n",
      "subject 5 recognized as 5\n",
      "subject 6 recognized as 6\n",
      "subject 7 recognized as 7\n",
      "subject 8 recognized as 8\n",
      "subject 9 recognized as 9\n",
      "subject 10 recognized as 10\n",
      "subject 11 recognized as 11\n",
      "subject 12 recognized as 12\n",
      "subject 13 recognized as 13\n",
      "subject 14 recognized as 14\n",
      "subject 15 recognized as 15\n",
      "subject 16 recognized as 16\n",
      "subject 17 recognized as 17\n",
      "subject 18 recognized as 18\n",
      "subject 19 recognized as 19\n",
      "subject 20 recognized as 20\n",
      "subject 21 recognized as 21\n",
      "subject 22 recognized as 22\n",
      "subject 23 recognized as 23\n",
      "subject 24 recognized as 24\n",
      "subject 25 recognized as 25\n",
      "subject 26 recognized as 26\n",
      "subject 27 recognized as 27\n",
      "subject 28 recognized as 28\n",
      "subject 29 recognized as 29\n",
      "subject 30 recognized as 30\n",
      "subject 31 recognized as 31\n",
      "subject 32 recognized as 32\n",
      "subject 33 recognized as 33\n",
      "subject 34 recognized as 34\n",
      "subject 35 recognized as 35\n",
      "subject 36 recognized as 36\n",
      "subject 37 recognized as 39\n",
      "subject 38 recognized as 38\n",
      "subject 39 recognized as 8\n",
      "Accuracy: 0.95\n",
      "computed in 5.932s\n"
     ]
    }
   ],
   "source": [
    "t0 = time()\n",
    "clf = LogisticRegression(solver='lbfgs', multi_class='auto')\n",
    "clf = clf.fit(eface, y_train)\n",
    "\n",
    "s=0\n",
    "for i in range(40):\n",
    "    print('subject', i, 'recognized as', clf.predict(idata[i,0,:].reshape(1,4096))[0])\n",
    "    if i == clf.predict(idata[i,0,:].reshape(1,4096))[0]:\n",
    "        s += 1\n",
    "print('Accuracy:', s/40)\n",
    "print(\"computed in %0.3fs\" % (time() - t0 + t_pca))"
   ]
  },
  {
   "cell_type": "code",
   "execution_count": null,
   "metadata": {},
   "outputs": [],
   "source": []
  }
 ],
 "metadata": {
  "kernelspec": {
   "display_name": "Python 3",
   "language": "python",
   "name": "python3"
  },
  "language_info": {
   "codemirror_mode": {
    "name": "ipython",
    "version": 3
   },
   "file_extension": ".py",
   "mimetype": "text/x-python",
   "name": "python",
   "nbconvert_exporter": "python",
   "pygments_lexer": "ipython3",
   "version": "3.7.4"
  }
 },
 "nbformat": 4,
 "nbformat_minor": 4
}
