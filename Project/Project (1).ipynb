{
 "cells": [
  {
   "cell_type": "code",
   "execution_count": 9,
   "metadata": {},
   "outputs": [],
   "source": [
    "#Steps 1-3 is PCA part of project, runs from the same folder on GitHub as project.ipynb\n",
    "#Uses data on 40 subjects 10 images 64x64=4096 pixels face_data.csv\n",
    "#Uses 9 images 1-9 to create an eigenface, image 0 for test\n",
    "#Creates file eigenfaces.csv 40 first eigenfaces x 4096 pixels with mean added back\n",
    "#Step 4 calculates cosine similarity between test image and eigenfaces, recognizes subject with max cosim\n",
    "#Not recognizing (cutoff) not implemented\n",
    "import math\n",
    "import numpy as np \n",
    "from numpy import linalg as la\n",
    "from sklearn.decomposition import PCA\n",
    "import matplotlib.pyplot as plt\n",
    "from matplotlib.pyplot import imshow\n",
    "from PIL import Image\n",
    "from sklearn.svm import SVC\n",
    "from sklearn.linear_model import LogisticRegression\n",
    "from time import time"
   ]
  },
  {
   "cell_type": "code",
   "execution_count": 4,
   "metadata": {},
   "outputs": [],
   "source": [
    "#get data\n",
    "import csv\n",
    "data = []\n",
    "with open('data/face_data/face_data.csv') as csvfile:\n",
    "    reader = csv.reader(csvfile, delimiter=',', quotechar='|')\n",
    "    for row in reader:\n",
    "        data.append(row)\n",
    "data=np.array(data)\n",
    "idata = data[1:,:data.shape[1]-1].astype(np.float32)\n",
    "ydata = data[1:,-1].astype(np.int).reshape(40,10)\n",
    "idata = idata.reshape(40,10,4096) #40 subjects 10 images 64x64\n",
    "X_train = idata[:,1:,:].reshape(360,4096)\n",
    "X_test = idata[:,0,:].reshape(40,4096)\n",
    "y_train = ydata[:,1:].reshape(360)\n",
    "y_test = ydata[:,0].reshape(40)"
   ]
  },
  {
   "cell_type": "code",
   "execution_count": 10,
   "metadata": {},
   "outputs": [
    {
     "name": "stdout",
     "output_type": "stream",
     "text": [
      "SVM score: 1.0\n",
      "computed in 1.387s\n"
     ]
    }
   ],
   "source": [
    "#train SVM on 360 images and test on 40 images zero  \n",
    "t0 = time()\n",
    "clf = SVC(kernel='linear', C=1.0)\n",
    "y_pred = clf.fit(X_train, y_train).predict(X_test)\n",
    "print('SVM score:', clf.score(X_test, y_test))\n",
    "print(\"computed in %0.3fs\" % (time() - t0))"
   ]
  },
  {
   "cell_type": "code",
   "execution_count": 11,
   "metadata": {},
   "outputs": [
    {
     "name": "stdout",
     "output_type": "stream",
     "text": [
      "Logistic Regression score: 1.0\n",
      "computed in 5.393s\n"
     ]
    },
    {
     "name": "stderr",
     "output_type": "stream",
     "text": [
      "C:\\Users\\andre\\Anaconda3\\lib\\site-packages\\sklearn\\linear_model\\logistic.py:947: ConvergenceWarning: lbfgs failed to converge. Increase the number of iterations.\n",
      "  \"of iterations.\", ConvergenceWarning)\n"
     ]
    }
   ],
   "source": [
    "#train log regression on 360 images and test on 40 images zero \n",
    "t0 = time()\n",
    "clf = LogisticRegression(solver='lbfgs', multi_class='auto')\n",
    "y_pred = clf.fit(X_train, y_train).predict(X_test)\n",
    "print('Logistic Regression score:', clf.score(X_test, y_test))\n",
    "print(\"computed in %0.3fs\" % (time() - t0))"
   ]
  },
  {
   "cell_type": "code",
   "execution_count": null,
   "metadata": {},
   "outputs": [],
   "source": []
  }
 ],
 "metadata": {
  "kernelspec": {
   "display_name": "Python 3",
   "language": "python",
   "name": "python3"
  },
  "language_info": {
   "codemirror_mode": {
    "name": "ipython",
    "version": 3
   },
   "file_extension": ".py",
   "mimetype": "text/x-python",
   "name": "python",
   "nbconvert_exporter": "python",
   "pygments_lexer": "ipython3",
   "version": "3.7.4"
  }
 },
 "nbformat": 4,
 "nbformat_minor": 4
}
