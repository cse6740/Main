{
 "cells": [
  {
   "cell_type": "code",
   "execution_count": 1,
   "metadata": {},
   "outputs": [],
   "source": [
    "import numpy as np \n",
    "import pandas as pd \n",
    "import matplotlib.pyplot as plt\n",
    "import math\n",
    "import numpy.matlib\n",
    "import scipy.io\n",
    "import warnings\n",
    "from numpy.random import randint\n",
    "from numpy.random import rand\n",
    "from sklearn.decomposition import PCA\n",
    "from sklearn.model_selection import train_test_split\n",
    "from sklearn.metrics import classification_report\n",
    "from PIL import Image\n",
    "from numpy import asarray\n",
    "warnings.filterwarnings('ignore')\n"
   ]
  },
  {
   "cell_type": "code",
   "execution_count": 2,
   "metadata": {},
   "outputs": [],
   "source": [
    "def load_data(url):    \n",
    "    df2 = pd.read_csv(url)\n",
    "    data = df2.drop('target', axis=1)\n",
    "    target= df2['target'].tolist()\n",
    "    shape=(64,64)\n",
    "    return data, target,shape\n",
    "def pcatrain(data,threshhoold):\n",
    "    pca_raw = PCA().fit(data)   \n",
    "    pca = PCA(n_components=len(np.where(pca_raw.explained_variance_ratio_.cumsum() > threshhoold))).fit(data)\n",
    "    return pca, pca_raw.explained_variance_ratio_.cumsum()\n"
   ]
  },
  {
   "cell_type": "code",
   "execution_count": 3,
   "metadata": {},
   "outputs": [],
   "source": []
  },
  {
   "cell_type": "code",
   "execution_count": 15,
   "metadata": {},
   "outputs": [
    {
     "name": "stdout",
     "output_type": "stream",
     "text": [
      "Wall time: 0 ns\n"
     ]
    }
   ],
   "source": [
    "%%time\n",
    "# genetic algorithm search for continuous function optimization\n",
    "\n",
    "def selection(pop, scores):\n",
    "    selection_ix = randint(len(pop))\n",
    "    for ix in randint(0, len(pop), 2):\n",
    "        if scores[ix] < scores[selection_ix]:\n",
    "            selection_ix = ix\n",
    "    return pop[selection_ix]\n",
    "\n",
    "# crossover two parents to create two children\n",
    "def crossover(p1, p2, crossover_rate):\n",
    "    # children are copies of parents by default\n",
    "    c1, c2 = p1.copy(), p2.copy()\n",
    "    # check for recombination\n",
    "    if rand() < crossover_rate:\n",
    "        # select crossover point that is not on the end of the string\n",
    "        pt = randint(1, len(p1)-2)\n",
    "        # perform crossover\n",
    "        c1 = p1[:pt] + p2[pt:]\n",
    "        c2 = p2[:pt] + p1[pt:]\n",
    "    return [c1, c2]\n",
    "\n",
    "\n",
    "def mutation(binary, mutation_rate):\n",
    "    for i in range(len(binary)):\n",
    "        # check for mutation\n",
    "        if rand() < mutation_rate:\n",
    "            binary[i] = 1 - binary[i]\n",
    "def fittness(x,y,z):\n",
    "    dist = z+np.linalg.norm(y.flatten()-x.flatten()-np.dot(np.dot(np.transpose(x.flatten()),(x.flatten())),y.flatten()-x.flatten()))**2\n",
    "    return dist\n",
    "# objective function\n",
    "def objective(data,x,punishment):\n",
    "    test=data.values[-1]\n",
    "    data=data.values[:-1]\n",
    "    testsample=np.dot(x,data)\n",
    "    z=np.count_nonzero(x)*punishment\n",
    "    return fittness(test,testsample,z)\n",
    "\n",
    "# binary_scaling binary to numbers\n",
    "def binary_scaling(boundary, round_lv, binary):\n",
    "    scaled = []\n",
    "    maxv= 2**round_lv\n",
    "    for i in range(len(boundary)):\n",
    "        substring = binary[(i*round_lv) : ((i*round_lv)+round_lv)]\n",
    "        # convert binary to an integer\n",
    "        integer = int(''.join([str(s) for s in substring]), 2)\n",
    "        # scale integer\n",
    "        value = boundary[i][0] + (integer/maxv) * (boundary[i][1] - boundary[i][0])\n",
    "        scaled.append(value)\n",
    "    return scaled\n",
    "\n",
    "# GA\n",
    "def genetic_algorithm(boundary, round_lv, iteration, population_size, crossover_rate, mutation_rate,punishment):\n",
    "    # initial values\n",
    "    score_list=[]\n",
    "    pop = [randint(1, 2, round_lv*len(boundary)).tolist() for i in range(population_size)]\n",
    "    local_min_list\t=0\n",
    "    distance_value \t= objective(data,binary_scaling(boundary, round_lv, pop[0]),punishment)\n",
    "    #bar = IncrementalBar('Countdown', max = iteration)\n",
    "    #star interations\n",
    "    for generation in range(iteration):\n",
    "        #bar.next()\n",
    "        #time.sleep(1)           \n",
    "        #print(\"iteration:  \", generation)\n",
    "        # binary_scaling population\n",
    "        scaled = [binary_scaling(boundary, round_lv, p) for p in pop]\n",
    "        # evaluate scores\n",
    "        scores = [objective(data,d,punishment) for d in scaled]\n",
    "        # check for new local_min_list solution\n",
    "        for i in range(population_size):\n",
    "            if scores[i] < distance_value:\n",
    "                local_min_list, distance_value = pop[i], scores[i]\n",
    "        score_list.append(distance_value)                \n",
    "\n",
    "        # matching parents\n",
    "        selected = [selection(pop, scores) for _ in range(population_size)]\n",
    "        # parent get married and give birth to mutaned children,\n",
    "        children = []\n",
    "        for i in range(0, population_size, 2):\n",
    "            # \n",
    "            p1, p2 = selected[i], selected[i+1]\n",
    "            for c in crossover(p1, p2, crossover_rate):\n",
    "                mutation(c, mutation_rate)\n",
    "                children.append(c)\n",
    "        # replace parents with children\n",
    "        pop = children\n",
    "    #bar.finish()\n",
    "    return local_min_list, distance_value,score_list\n",
    "\n",
    "\n"
   ]
  },
  {
   "cell_type": "code",
   "execution_count": 55,
   "metadata": {},
   "outputs": [],
   "source": [
    "#parameters\n",
    "testimg=52\n",
    "boundary = [[0, 1.0]]*(data.shape[0]-1)\n",
    "iteration = 200\n",
    "round_lv = 2\n",
    "population_size = 100\n",
    "crossover_rate = 0.9\n",
    "punishment =1000\n",
    "mutation_rate = 1.0 / (float(round_lv) * len(boundary))\n",
    "# run genetic algorithm "
   ]
  },
  {
   "cell_type": "code",
   "execution_count": 50,
   "metadata": {},
   "outputs": [],
   "source": [
    "#Data loading\n",
    "data2, target,shape= load_data('data/face_data/face_data.csv')\n",
    "\n",
    "data=data2[:1]\n",
    "data=data.reset_index(drop=True)\n",
    "for i in range(0,40):\n",
    "    pca = PCA().fit(data2[10*i:(10*i+10)])\n",
    "    if (i==0):\n",
    "        data.loc[0]=pca.mean_.tolist()\n",
    "    else:\n",
    "        data.loc[len(data.index)]=pca.mean_.tolist()\n",
    "test=data2.values[testimg]\n",
    "data.loc[len(data.index)]=test.tolist()"
   ]
  },
  {
   "cell_type": "code",
   "execution_count": 56,
   "metadata": {},
   "outputs": [
    {
     "name": "stdout",
     "output_type": "stream",
     "text": [
      "Genetic Algorithm finished!\n",
      "Created by: [0.0, 0.0, 0.0, 0.0, 0.0, 0.25, 0.0, 0.0, 0.0, 0.0, 0.0, 0.0, 0.0, 0.0, 0.0, 0.0, 0.0, 0.0, 0.0, 0.0, 0.0, 0.25, 0.0, 0.0, 0.0, 0.0, 0.0, 0.0, 0.0, 0.25, 0.25, 0.0, 0.0, 0.25, 0.0, 0.0, 0.0, 0.0, 0.0, 0.0]\n",
      "fiteness level: 69012160.53112271\n",
      "Wall time: 52.6 s\n"
     ]
    },
    {
     "data": {
      "text/plain": [
       "[<matplotlib.lines.Line2D at 0x267c6e1aeb0>]"
      ]
     },
     "execution_count": 56,
     "metadata": {},
     "output_type": "execute_result"
    },
    {
     "data": {
      "image/png": "[encoded data removed]",
      "text/plain": [
       "<Figure size 432x288 with 1 Axes>"
      ]
     },
     "metadata": {
      "needs_background": "light"
     },
     "output_type": "display_data"
    }
   ],
   "source": [
    "%%time\n",
    "#GA construction array\n",
    "local_min_list, score,score_list = genetic_algorithm(boundary, round_lv, iteration, population_size, crossover_rate, mutation_rate,punishment)\n",
    "print('Genetic Algorithm finished!')\n",
    "scaled = binary_scaling(boundary, round_lv, local_min_list)\n",
    "print('Created by: %s' % scaled)\n",
    "print('fiteness level: %s' % score)\n",
    "plt.plot(score_list)\n",
    "\n"
   ]
  },
  {
   "cell_type": "code",
   "execution_count": 57,
   "metadata": {},
   "outputs": [
    {
     "data": {
      "image/png": "[encoded data removed]",
      "text/plain": [
       "<Figure size 720x720 with 2 Axes>"
      ]
     },
     "metadata": {
      "needs_background": "light"
     },
     "output_type": "display_data"
    },
    {
     "name": "stdout",
     "output_type": "stream",
     "text": [
      "Wall time: 618 ms\n"
     ]
    }
   ],
   "source": [
    "%%time\n",
    "#check the resule img\n",
    "testdata=data.values[:-1].astype(float)\n",
    "x=[0]*40\n",
    "x[int(testimg/10)]=1\n",
    "\n",
    "ls=np.array([np.dot(scaled,testdata).reshape(shape),np.dot(x,testdata).reshape(shape)])\n",
    "name=['scaled','real']\n",
    "fig, axes = plt.subplots(1, 2, figsize=(10, 10))\n",
    "for i, ax in enumerate(axes.flat):\n",
    "    ax.imshow(ls[i].reshape(shape), cmap='gray')\n",
    "    ax.set_title(name[i])\n",
    "plt.show()"
   ]
  },
  {
   "cell_type": "code",
   "execution_count": null,
   "metadata": {},
   "outputs": [],
   "source": []
  }
 ],
 "metadata": {
  "kernelspec": {
   "display_name": "Python 3",
   "language": "python",
   "name": "python3"
  },
  "language_info": {
   "codemirror_mode": {
    "name": "ipython",
    "version": 3
   },
   "file_extension": ".py",
   "mimetype": "text/x-python",
   "name": "python",
   "nbconvert_exporter": "python",
   "pygments_lexer": "ipython3",
   "version": "3.8.5"
  }
 },
 "nbformat": 4,
 "nbformat_minor": 4
}
